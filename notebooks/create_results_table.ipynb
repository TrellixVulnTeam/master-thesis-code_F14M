{
 "metadata": {
  "language_info": {
   "codemirror_mode": {
    "name": "ipython",
    "version": 3
   },
   "file_extension": ".py",
   "mimetype": "text/x-python",
   "name": "python",
   "nbconvert_exporter": "python",
   "pygments_lexer": "ipython3",
   "version": "3.8.10"
  },
  "orig_nbformat": 2,
  "kernelspec": {
   "name": "python3",
   "display_name": "Python 3.8.10 64-bit ('python38': conda)"
  },
  "interpreter": {
   "hash": "3d6ccd2bcfab28fb4b08948d903be8a3077fc288a2616d4055f0b5a296f9cf65"
  }
 },
 "nbformat": 4,
 "nbformat_minor": 2,
 "cells": [
  {
   "cell_type": "code",
   "execution_count": null,
   "source": [
    "import pandas as pd \r\n",
    "import numpy as np\r\n",
    "import os\r\n",
    "import sys"
   ],
   "outputs": [],
   "metadata": {}
  },
  {
   "cell_type": "code",
   "execution_count": null,
   "source": [
    "scenario = 'ditto'\r\n",
    "tasks = ['dbpedia_viaf']\r\n",
    "#tasks = ['dbpedia_viaf','dbpedia_dnb','abt_buy','amazon_google','wdc_phones','wdc_headphones','wdc_cameras','wdc_watches']\r\n",
    "\r\n",
    "for task in tasks:\r\n",
    "    al_random_init = pd.read_csv(os.path.join(scenario,task,'al_random_init_'+task+'.csv'),sep=',')\r\n",
    "    al_tl = pd.read_csv(os.path.join(scenario,task,'al_tl_'+task+'.csv'),sep=',')\r\n",
    "    #al_tl_da = pd.read_csv(os.path.join(scenario,task,'al_tl_da_'+task+'.csv'),sep=',')\r\n",
    "    al_tl_include_source = pd.read_csv(os.path.join(scenario,task,'al_tl_include_source_'+task+'.csv'),sep=',')\r\n",
    "    #al_tl_da_to_ls = pd.read_csv(os.path.join(scenario,task,'al_tl_da_to_ls_'+task+'.csv'),sep=',')\r\n",
    "    #al_tl_da_thresh = pd.read_csv(os.path.join(scenario,task,'al_tl_da_thresh_'+task+'.csv'),sep=',')\r\n",
    "\r\n",
    "    df = pd.DataFrame()\r\n",
    "    df['# Labeled Examples'] = al_tl['labeled set size']\r\n",
    "    df['al_random_init'] = al_random_init.apply(lambda x: '{:.3f}'.format(x['F1 Mean']) + ' (' + '{:.3f}'.format(x['F1 Std']) + ')',axis=1)\r\n",
    "    df['al_tl'] = al_tl.apply(lambda x: '{:.3f}'.format(x['F1 Mean']) + ' (' + '{:.3f}'.format(x['F1 Std']) + ')',axis=1)\r\n",
    "    #df['al_tl_da'] = al_tl_da.apply(lambda x: '{:.3f}'.format(x['F1 Mean']) + ' (' + '{:.3f}'.format(x['F1 Std']) + ')',axis=1)\r\n",
    "    df['al_tl_include_source'] = al_tl_include_source.apply(lambda x: '{:.3f}'.format(x['F1 Mean']) + ' (' + '{:.3f}'.format(x['F1 Std']) + ')',axis=1)\r\n",
    "    #df['al_tl_da_to_ls'] = al_tl_da_to_ls.apply(lambda x: '{:.3f}'.format(x['F1 Mean']) + ' (' + '{:.3f}'.format(x['F1 Std']) + ')',axis=1)\r\n",
    "    #df['al_tl_da_thresh'] = al_tl_da_thresh.apply(lambda x: '{:.3f}'.format(x['F1 Mean']) + ' (' + '{:.3f}'.format(x['F1 Std']) + ')',axis=1)\r\n",
    "    df = df.set_index('# Labeled Examples')\r\n",
    "    df.to_csv(os.path.join(scenario,task,'results_table_'+task+'.csv'))\r\n",
    "\r\n"
   ],
   "outputs": [],
   "metadata": {
    "tags": []
   }
  },
  {
   "cell_type": "code",
   "execution_count": null,
   "source": [
    "# create latex table\r\n",
    "scenario = 'ditto'\r\n",
    "task = 'dbpedia_viaf'\r\n",
    "df = pd.read_csv(os.path.join(scenario,task,'results_table_'+task+'.csv'))\r\n",
    "print(df.to_latex(index=False))"
   ],
   "outputs": [],
   "metadata": {}
  }
 ]
}