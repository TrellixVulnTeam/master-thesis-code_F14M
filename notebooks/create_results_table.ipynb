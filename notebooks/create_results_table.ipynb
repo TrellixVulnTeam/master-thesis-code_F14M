{
 "metadata": {
  "language_info": {
   "codemirror_mode": {
    "name": "ipython",
    "version": 3
   },
   "file_extension": ".py",
   "mimetype": "text/x-python",
   "name": "python",
   "nbconvert_exporter": "python",
   "pygments_lexer": "ipython3",
   "version": "3.8.10"
  },
  "orig_nbformat": 2,
  "kernelspec": {
   "name": "python3",
   "display_name": "Python 3.8.10 64-bit ('python38': conda)"
  },
  "interpreter": {
   "hash": "3d6ccd2bcfab28fb4b08948d903be8a3077fc288a2616d4055f0b5a296f9cf65"
  }
 },
 "nbformat": 4,
 "nbformat_minor": 2,
 "cells": [
  {
   "cell_type": "code",
   "execution_count": 3,
   "source": [
    "import pandas as pd \r\n",
    "import numpy as np\r\n",
    "import os\r\n",
    "import sys\r\n",
    "os.chdir(\"E:\\\\2_Studium\\\\1_Mannheim\\\\4_Semester\\\\Masterarbeit\\\\code\\\\master-thesis-code\\\\results\")"
   ],
   "outputs": [],
   "metadata": {}
  },
  {
   "cell_type": "code",
   "execution_count": 2,
   "source": [
    "# to_csv\r\n",
    "\r\n",
    "scenario = 'final/deepmatcher'\r\n",
    "#tasks = ['dbpedia_viaf','abt_buy','watches']\r\n",
    "tasks = ['dbpedia_viaf','dbpedia_dnb','abt_buy','amazon_google','wdc_phones','wdc_headphones','wdc_cameras','wdc_watches']\r\n",
    "\r\n",
    "for task in tasks:\r\n",
    "    al_random_init = pd.read_csv(os.path.join(scenario,task,'al_random_init_'+task+'.csv'),sep=',')\r\n",
    "    al_tl = pd.read_csv(os.path.join(scenario,task,'al_tl_'+task+'.csv'),sep=',')\r\n",
    "    al_tl_da = pd.read_csv(os.path.join(scenario,task,'al_tl_da_'+task+'.csv'),sep=',')\r\n",
    "    al_tl_include_source = pd.read_csv(os.path.join(scenario,task,'al_tl_include_source_'+task+'.csv'),sep=',')\r\n",
    "    #al_tl_da_to_ls = pd.read_csv(os.path.join(scenario,task,'al_tl_da_to_ls_'+task+'.csv'),sep=',')\r\n",
    "    #al_tl_da_thresh = pd.read_csv(os.path.join(scenario,task,'al_tl_da_thresh_'+task+'.csv'),sep=',')\r\n",
    "\r\n",
    "    df = pd.DataFrame()\r\n",
    "    df['# Labeled Examples'] = al_tl['labeled set size']\r\n",
    "    df['al_random_init'] = al_random_init.apply(lambda x: '{:.3f}'.format(x['F1 Mean']) + ' (' + '{:.3f}'.format(x['F1 Std']) + ')',axis=1)\r\n",
    "    df['al_tl'] = al_tl.apply(lambda x: '{:.3f}'.format(x['F1 Mean']) + ' (' + '{:.3f}'.format(x['F1 Std']) + ')',axis=1)\r\n",
    "    df['al_tl_da'] = al_tl_da.apply(lambda x: '{:.3f}'.format(x['F1 Mean']) + ' (' + '{:.3f}'.format(x['F1 Std']) + ')',axis=1)\r\n",
    "    df['al_tl_include_source'] = al_tl_include_source.apply(lambda x: '{:.3f}'.format(x['F1 Mean']) + ' (' + '{:.3f}'.format(x['F1 Std']) + ')',axis=1)\r\n",
    "    #df['al_tl_da_to_ls'] = al_tl_da_to_ls.apply(lambda x: '{:.3f}'.format(x['F1 Mean']) + ' (' + '{:.3f}'.format(x['F1 Std']) + ')',axis=1)\r\n",
    "    #df['al_tl_da_thresh'] = al_tl_da_thresh.apply(lambda x: '{:.3f}'.format(x['F1 Mean']) + ' (' + '{:.3f}'.format(x['F1 Std']) + ')',axis=1)\r\n",
    "    df = df.set_index('# Labeled Examples')\r\n",
    "    df.to_csv(os.path.join(scenario,task,'results_table_'+task+'.csv'))\r\n",
    "\r\n"
   ],
   "outputs": [],
   "metadata": {
    "tags": []
   }
  },
  {
   "cell_type": "code",
   "execution_count": 68,
   "source": [
    "# to_latex\r\n",
    "\r\n",
    "scenario = 'final/deepmatcher'\r\n",
    "#tasks = ['dbpedia_viaf','dbpedia_dnb','abt_buy','wdc_phones','wdc_headphones']\r\n",
    "tasks = ['dbpedia_viaf']\r\n",
    "\r\n",
    "for task in tasks:\r\n",
    "    df = pd.read_csv(os.path.join(scenario,task,'results_table_'+task+'.csv'))"
   ],
   "outputs": [],
   "metadata": {}
  },
  {
   "cell_type": "code",
   "execution_count": 12,
   "source": [
    "scenario = 'final/deepmatcher'\r\n",
    "task = 'wdc_watches'\r\n",
    "df = pd.read_csv(os.path.join(scenario,task,'results_table_'+task+'.csv'))\r\n",
    "print(df.to_latex(index=False))"
   ],
   "outputs": [
    {
     "output_type": "stream",
     "name": "stdout",
     "text": [
      "\\begin{tabular}{rllll}\n",
      "\\toprule\n",
      " \\# Labeled Examples & al\\_random\\_init &         al\\_tl &      al\\_tl\\_da & al\\_tl\\_include\\_source \\\\\n",
      "\\midrule\n",
      "                  0 &  0.172 (0.109) & 0.532 (0.023) & 0.529 (0.005) &        0.542 (0.007) \\\\\n",
      "                100 &  0.396 (0.082) & 0.512 (0.016) & 0.417 (0.074) &        0.497 (0.007) \\\\\n",
      "                200 &  0.410 (0.109) & 0.498 (0.056) & 0.422 (0.126) &        0.502 (0.034) \\\\\n",
      "                300 &  0.407 (0.092) & 0.478 (0.036) & 0.375 (0.049) &        0.481 (0.031) \\\\\n",
      "                400 &  0.401 (0.074) & 0.479 (0.033) & 0.428 (0.022) &        0.512 (0.014) \\\\\n",
      "                500 &  0.360 (0.023) & 0.465 (0.028) & 0.446 (0.050) &        0.505 (0.044) \\\\\n",
      "                600 &  0.392 (0.064) & 0.506 (0.031) & 0.475 (0.044) &        0.533 (0.051) \\\\\n",
      "                700 &  0.381 (0.025) & 0.542 (0.009) & 0.528 (0.062) &        0.519 (0.009) \\\\\n",
      "                800 &  0.375 (0.049) & 0.562 (0.022) & 0.550 (0.073) &        0.547 (0.025) \\\\\n",
      "                900 &  0.430 (0.038) & 0.590 (0.021) & 0.584 (0.038) &        0.581 (0.012) \\\\\n",
      "               1000 &  0.434 (0.057) & 0.596 (0.037) & 0.596 (0.030) &        0.614 (0.005) \\\\\n",
      "               1100 &  0.440 (0.043) & 0.644 (0.003) & 0.623 (0.018) &        0.643 (0.027) \\\\\n",
      "               1200 &  0.476 (0.055) & 0.648 (0.009) & 0.624 (0.027) &        0.662 (0.026) \\\\\n",
      "               1300 &  0.488 (0.071) & 0.665 (0.019) & 0.639 (0.014) &        0.686 (0.012) \\\\\n",
      "               1400 &  0.532 (0.061) & 0.668 (0.010) & 0.662 (0.014) &        0.700 (0.032) \\\\\n",
      "               1500 &  0.549 (0.080) & 0.693 (0.022) & 0.681 (0.011) &        0.722 (0.029) \\\\\n",
      "               1600 &  0.595 (0.097) & 0.704 (0.017) & 0.703 (0.019) &        0.732 (0.024) \\\\\n",
      "               1700 &  0.606 (0.076) & 0.706 (0.012) & 0.708 (0.031) &        0.761 (0.003) \\\\\n",
      "               1800 &  0.627 (0.076) & 0.725 (0.010) & 0.703 (0.022) &        0.766 (0.016) \\\\\n",
      "               1900 &  0.655 (0.034) & 0.736 (0.002) & 0.741 (0.012) &        0.775 (0.012) \\\\\n",
      "               2000 &  0.675 (0.033) & 0.757 (0.012) & 0.755 (0.009) &        0.771 (0.008) \\\\\n",
      "               2100 &  0.684 (0.014) & 0.746 (0.017) & 0.754 (0.019) &        0.788 (0.002) \\\\\n",
      "               2200 &  0.708 (0.025) & 0.764 (0.006) & 0.763 (0.016) &        0.796 (0.010) \\\\\n",
      "               2300 &  0.720 (0.015) & 0.779 (0.015) & 0.771 (0.022) &        0.808 (0.007) \\\\\n",
      "               2400 &  0.731 (0.021) & 0.764 (0.010) & 0.781 (0.036) &        0.812 (0.016) \\\\\n",
      "               2500 &  0.730 (0.020) & 0.783 (0.007) & 0.798 (0.015) &        0.835 (0.001) \\\\\n",
      "               2600 &  0.747 (0.026) & 0.788 (0.014) & 0.804 (0.008) &        0.841 (0.012) \\\\\n",
      "               2700 &  0.735 (0.006) & 0.799 (0.006) & 0.814 (0.015) &        0.840 (0.004) \\\\\n",
      "               2800 &  0.755 (0.013) & 0.815 (0.006) & 0.813 (0.018) &        0.853 (0.010) \\\\\n",
      "               2900 &  0.771 (0.008) & 0.809 (0.011) & 0.831 (0.010) &        0.848 (0.010) \\\\\n",
      "               3000 &  0.781 (0.016) & 0.831 (0.015) & 0.833 (0.016) &        0.860 (0.009) \\\\\n",
      "               3100 &  0.787 (0.015) & 0.825 (0.014) & 0.848 (0.021) &        0.856 (0.010) \\\\\n",
      "               3200 &  0.799 (0.026) & 0.835 (0.011) & 0.850 (0.016) &        0.866 (0.010) \\\\\n",
      "               3300 &  0.802 (0.028) & 0.845 (0.008) & 0.856 (0.009) &        0.872 (0.019) \\\\\n",
      "               3400 &  0.815 (0.018) & 0.846 (0.010) & 0.858 (0.010) &        0.880 (0.008) \\\\\n",
      "               3500 &  0.810 (0.030) & 0.860 (0.014) & 0.870 (0.008) &        0.876 (0.014) \\\\\n",
      "               3600 &  0.817 (0.018) & 0.866 (0.005) & 0.867 (0.006) &        0.885 (0.012) \\\\\n",
      "               3700 &  0.831 (0.019) & 0.867 (0.011) & 0.871 (0.008) &        0.893 (0.011) \\\\\n",
      "               3800 &  0.837 (0.019) & 0.870 (0.010) & 0.882 (0.009) &        0.894 (0.005) \\\\\n",
      "               3900 &  0.836 (0.023) & 0.872 (0.010) & 0.884 (0.010) &        0.893 (0.011) \\\\\n",
      "               4000 &  0.843 (0.016) & 0.880 (0.014) & 0.885 (0.002) &        0.902 (0.011) \\\\\n",
      "\\bottomrule\n",
      "\\end{tabular}\n",
      "\n"
     ]
    }
   ],
   "metadata": {}
  },
  {
   "cell_type": "code",
   "execution_count": null,
   "source": [],
   "outputs": [],
   "metadata": {}
  }
 ]
}