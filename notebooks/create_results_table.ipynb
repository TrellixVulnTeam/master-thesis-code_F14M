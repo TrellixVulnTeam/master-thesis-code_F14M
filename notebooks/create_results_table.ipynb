{
 "metadata": {
  "language_info": {
   "codemirror_mode": {
    "name": "ipython",
    "version": 3
   },
   "file_extension": ".py",
   "mimetype": "text/x-python",
   "name": "python",
   "nbconvert_exporter": "python",
   "pygments_lexer": "ipython3",
   "version": "3.8.10"
  },
  "orig_nbformat": 2,
  "kernelspec": {
   "name": "python3",
   "display_name": "Python 3.8.10 64-bit ('python38': conda)"
  },
  "interpreter": {
   "hash": "3d6ccd2bcfab28fb4b08948d903be8a3077fc288a2616d4055f0b5a296f9cf65"
  }
 },
 "nbformat": 4,
 "nbformat_minor": 2,
 "cells": [
  {
   "cell_type": "code",
   "execution_count": null,
   "metadata": {},
   "outputs": [],
   "source": [
    "import pandas as pd \n",
    "import numpy as np\n",
    "import os\n",
    "import sys\n",
    "os.chdir(\"E:\\\\2_Studium\\\\1_Mannheim\\\\4_Semester\\\\Masterarbeit\\\\code\\\\master-thesis-code\\\\results\")"
   ]
  },
  {
   "cell_type": "code",
   "execution_count": 67,
   "metadata": {
    "tags": []
   },
   "outputs": [],
   "source": [
    "scenario = 'deepmatcher_2source'\n",
    "tasks = ['dbpedia_viaf','dbpedia_dnb','abt_buy','wdc_phones','wdc_headphones']\n",
    "#tasks = ['wdc_phones']\n",
    "\n",
    "for task in tasks:\n",
    "    al_random_init = pd.read_csv(os.path.join(scenario,task,'al_random_init_'+task+'.csv'))\n",
    "    al_tl = pd.read_csv(os.path.join(scenario,task,'al_tl_'+task+'.csv'))\n",
    "    al_tl_da = pd.read_csv(os.path.join(scenario,task,'al_tl_da_'+task+'.csv'))\n",
    "    al_tl_da_to_ls = pd.read_csv(os.path.join(scenario,task,'al_tl_da_to_ls_'+task+'.csv'))\n",
    "    al_tl_da_thresh = pd.read_csv(os.path.join(scenario,task,'al_tl_da_thresh_'+task+'.csv'))\n",
    "\n",
    "    df = pd.DataFrame()\n",
    "    df['# Labeled Examples'] = al_random_init['labeled set size']\n",
    "    df['al_random_init'] = al_random_init.apply(lambda x: '{:.3f}'.format(x['F1 Mean']) + ' (' + '{:.3f}'.format(x['F1 Std']) + ')',axis=1)\n",
    "    df['al_tl'] = al_tl.apply(lambda x: '{:.3f}'.format(x['F1 Mean']) + ' (' + '{:.3f}'.format(x['F1 Std']) + ')',axis=1)\n",
    "    df['al_tl_da'] = al_tl_da.apply(lambda x: '{:.3f}'.format(x['F1 Mean']) + ' (' + '{:.3f}'.format(x['F1 Std']) + ')',axis=1)\n",
    "    df['al_tl_da_to_ls'] = al_tl_da_to_ls.apply(lambda x: '{:.3f}'.format(x['F1 Mean']) + ' (' + '{:.3f}'.format(x['F1 Std']) + ')',axis=1)\n",
    "    df['al_tl_da_thresh'] = al_tl_da_thresh.apply(lambda x: '{:.3f}'.format(x['F1 Mean']) + ' (' + '{:.3f}'.format(x['F1 Std']) + ')',axis=1)\n",
    "    df = df.set_index('# Labeled Examples')\n",
    "    df.to_csv(os.path.join(scenario,task,'results_table_'+task+'.csv'))\n",
    "\n"
   ]
  },
  {
   "cell_type": "code",
   "execution_count": null,
   "metadata": {},
   "outputs": [],
   "source": []
  }
 ]
}