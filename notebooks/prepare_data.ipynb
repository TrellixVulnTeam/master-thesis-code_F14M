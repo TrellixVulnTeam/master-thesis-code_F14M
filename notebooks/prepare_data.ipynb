{
 "cells": [
  {
   "cell_type": "code",
   "execution_count": 1,
   "metadata": {},
   "outputs": [],
   "source": [
    "import pandas as pd"
   ]
  },
  {
   "cell_type": "code",
   "execution_count": 37,
   "metadata": {},
   "outputs": [],
   "source": [
    "feature_abt_buy_test = pd.read_csv(\"abt_buy/features_abt_buy_test\")\n",
    "feature_abt_buy_train = pd.read_csv(\"abt_buy/features_abt_buy_train\")\n",
    "abt_buy_gold_standard_train = pd.read_csv(\"abt_buy/abt_buy_gold_standard_train.csv\",sep=\";\")\n",
    "abt_buy_gold_standard_test = pd.read_csv(\"abt_buy/abt_buy_gold_standard_test.csv\",sep=\";\")\n",
    "\n",
    "feature_amazon_google_test = pd.read_csv(\"amazon_google/features_amazon_google_test\")\n",
    "feature_amazon_google_train = pd.read_csv(\"amazon_google/features_amazon_google_train\")\n",
    "\n",
    "feature_wdc_phones_test = pd.read_csv(\"wdc_product/features_phones_phones_catalog_test\")\n",
    "feature_wdc_phones_train = pd.read_csv(\"wdc_product/features_phones_phones_catalog_train\")\n",
    "\n",
    "feature_wdc_headphones_test = pd.read_csv(\"wdc_product/features_headphones_headphones_catalog_test\")\n",
    "feature_wdc_headphones_train = pd.read_csv(\"wdc_product/features_headphones_headphones_catalog_train\")\n",
    "\n",
    "#feature_author_test = pd.read_csv(\"author/features_author_test\")\n",
    "#feature_author_train = pd.read_csv(\"author/features_author_train\")"
   ]
  },
  {
   "cell_type": "code",
   "execution_count": 29,
   "metadata": {},
   "outputs": [
    {
     "name": "stdout",
     "output_type": "stream",
     "text": [
      "(5730, 19)\n",
      "(1432, 19)\n"
     ]
    }
   ],
   "source": [
    "print(feature_abt_buy_train.shape)\n",
    "print(feature_abt_buy_test.shape)"
   ]
  },
  {
   "cell_type": "code",
   "execution_count": 30,
   "metadata": {},
   "outputs": [
    {
     "name": "stdout",
     "output_type": "stream",
     "text": [
      "(6753, 24)\n",
      "(1687, 24)\n"
     ]
    }
   ],
   "source": [
    "print(feature_amazon_google_train.shape)\n",
    "print(feature_amazon_google_test.shape)"
   ]
  },
  {
   "cell_type": "code",
   "execution_count": 31,
   "metadata": {},
   "outputs": [
    {
     "name": "stdout",
     "output_type": "stream",
     "text": [
      "(1762, 135)\n",
      "(440, 135)\n"
     ]
    }
   ],
   "source": [
    "print(feature_wdc_phones_train.shape)\n",
    "print(feature_wdc_phones_test.shape)"
   ]
  },
  {
   "cell_type": "code",
   "execution_count": 32,
   "metadata": {},
   "outputs": [
    {
     "name": "stdout",
     "output_type": "stream",
     "text": [
      "(1163, 142)\n",
      "(290, 142)\n"
     ]
    }
   ],
   "source": [
    "print(feature_wdc_headphones_train.shape)\n",
    "print(feature_wdc_headphones_test.shape)"
   ]
  },
  {
   "cell_type": "markdown",
   "metadata": {},
   "source": [
    "# Preprocessing abt_buy"
   ]
  },
  {
   "cell_type": "code",
   "execution_count": 38,
   "metadata": {},
   "outputs": [],
   "source": [
    "ids_abt_buy_train = feature_abt_buy_train[[\"source_id\",\"target_id\"]]\n",
    "ids_abt_buy_test = feature_abt_buy_test[[\"source_id\",\"target_id\"]]\n",
    "abt_original = pd.read_csv(\"abt_buy/abt.csv\",encoding='latin1').add_prefix('left_')\n",
    "buy_original = pd.read_csv(\"abt_buy/buy.csv\",encoding='latin1').add_prefix('right_')\n",
    "\n",
    "#train\n",
    "abt_buy_train = ids_abt_buy_train.merge(\n",
    "    abt_original,left_on=\"source_id\",right_on=\"left_subject_id\").merge(\n",
    "    buy_original,left_on=\"target_id\",right_on=\"right_subject_id\").drop(['left_subject_id','right_subject_id'],1)\n",
    "abt_buy_train['id'] = abt_buy_train[['source_id','target_id']].astype(str).agg('-'.join,axis=1)\n",
    "\n",
    "#test\n",
    "abt_buy_test = ids_abt_buy_test.merge(\n",
    "    abt_original,left_on=\"source_id\",right_on=\"left_subject_id\").merge(\n",
    "    buy_original,left_on=\"target_id\",right_on=\"right_subject_id\").drop(['left_subject_id','right_subject_id'],1)\n",
    "abt_buy_test['id'] = abt_buy_test[['source_id','target_id']].astype(str).agg('-'.join,axis=1)"
   ]
  },
  {
   "cell_type": "code",
   "execution_count": 39,
   "metadata": {},
   "outputs": [],
   "source": [
    "#train\n",
    "abt_buy_gold_standard_train['id'] = abt_buy_gold_standard_train[['source_id','target_id']].astype(str).agg('-'.join,axis=1)\n",
    "abt_buy_gold_standard_train.drop(['source_id','target_id'],axis=1,inplace=True)\n",
    "\n",
    "#test\n",
    "abt_buy_gold_standard_test['id'] = abt_buy_gold_standard_test[['source_id','target_id']].astype(str).agg('-'.join,axis=1)\n",
    "abt_buy_gold_standard_test.drop(['source_id','target_id'],axis=1,inplace=True)"
   ]
  },
  {
   "cell_type": "code",
   "execution_count": 40,
   "metadata": {},
   "outputs": [],
   "source": [
    "abt_buy_train = abt_buy_train.merge(abt_buy_gold_standard_train,on='id')\n",
    "abt_buy_train = abt_buy_train.rename(columns={'matching':'label'})\n",
    "abt_buy_train.drop('right_manufacturer',axis=1,inplace=True)\n",
    "abt_buy_train['label'] = abt_buy_train['label'].astype(int)"
   ]
  },
  {
   "cell_type": "code",
   "execution_count": 41,
   "metadata": {},
   "outputs": [
    {
     "data": {
      "text/html": [
       "<div>\n",
       "<style scoped>\n",
       "    .dataframe tbody tr th:only-of-type {\n",
       "        vertical-align: middle;\n",
       "    }\n",
       "\n",
       "    .dataframe tbody tr th {\n",
       "        vertical-align: top;\n",
       "    }\n",
       "\n",
       "    .dataframe thead th {\n",
       "        text-align: right;\n",
       "    }\n",
       "</style>\n",
       "<table border=\"1\" class=\"dataframe\">\n",
       "  <thead>\n",
       "    <tr style=\"text-align: right;\">\n",
       "      <th></th>\n",
       "      <th>source_id</th>\n",
       "      <th>target_id</th>\n",
       "      <th>left_name</th>\n",
       "      <th>left_description</th>\n",
       "      <th>left_price</th>\n",
       "      <th>right_name</th>\n",
       "      <th>right_description</th>\n",
       "      <th>right_price</th>\n",
       "      <th>id</th>\n",
       "      <th>label</th>\n",
       "    </tr>\n",
       "  </thead>\n",
       "  <tbody>\n",
       "    <tr>\n",
       "      <th>0</th>\n",
       "      <td>17187</td>\n",
       "      <td>202041204</td>\n",
       "      <td>Universal IR/RF Remote - MX350</td>\n",
       "      <td>Universal IR/RF Remote - MX350/ Controls Up To...</td>\n",
       "      <td>149.95</td>\n",
       "      <td>Universal MX-350 Osiris Remote Control - MX350</td>\n",
       "      <td>TV, VCR, DVD Player, CD Player, Cable Box, Sat...</td>\n",
       "      <td>93.9</td>\n",
       "      <td>17187-202041204</td>\n",
       "      <td>1</td>\n",
       "    </tr>\n",
       "    <tr>\n",
       "      <th>1</th>\n",
       "      <td>17187</td>\n",
       "      <td>203069939</td>\n",
       "      <td>Universal IR/RF Remote - MX350</td>\n",
       "      <td>Universal IR/RF Remote - MX350/ Controls Up To...</td>\n",
       "      <td>149.95</td>\n",
       "      <td>Universal MasterControl Universal Learning Rem...</td>\n",
       "      <td>Audio/Video, TV, VCR, DVD Player, CD Player, C...</td>\n",
       "      <td>NaN</td>\n",
       "      <td>17187-203069939</td>\n",
       "      <td>0</td>\n",
       "    </tr>\n",
       "    <tr>\n",
       "      <th>2</th>\n",
       "      <td>33965</td>\n",
       "      <td>203069939</td>\n",
       "      <td>Logitech Harmony One Advanced Universal Remote...</td>\n",
       "      <td>Logitech Harmony One Advanced Universal Remote...</td>\n",
       "      <td>249.00</td>\n",
       "      <td>Universal MasterControl Universal Learning Rem...</td>\n",
       "      <td>Audio/Video, TV, VCR, DVD Player, CD Player, C...</td>\n",
       "      <td>NaN</td>\n",
       "      <td>33965-203069939</td>\n",
       "      <td>0</td>\n",
       "    </tr>\n",
       "    <tr>\n",
       "      <th>3</th>\n",
       "      <td>31273</td>\n",
       "      <td>203069939</td>\n",
       "      <td>Sony Universal Remote Commander Remote Control...</td>\n",
       "      <td>Sony Universal Remote Commander Remote Control...</td>\n",
       "      <td>NaN</td>\n",
       "      <td>Universal MasterControl Universal Learning Rem...</td>\n",
       "      <td>Audio/Video, TV, VCR, DVD Player, CD Player, C...</td>\n",
       "      <td>NaN</td>\n",
       "      <td>31273-203069939</td>\n",
       "      <td>0</td>\n",
       "    </tr>\n",
       "    <tr>\n",
       "      <th>4</th>\n",
       "      <td>27779</td>\n",
       "      <td>205844283</td>\n",
       "      <td>Sony LCS-CSQ/B Black Soft Carrying Case - LCSCSQB</td>\n",
       "      <td>Sony LCS-CSQ/B Black Soft Carrying Case - LCSC...</td>\n",
       "      <td>NaN</td>\n",
       "      <td>Sony LCS-CSQ Soft Cyber-shot Camera Case - LCS...</td>\n",
       "      <td>Top Loading - Polyamide - Black</td>\n",
       "      <td>NaN</td>\n",
       "      <td>27779-205844283</td>\n",
       "      <td>1</td>\n",
       "    </tr>\n",
       "  </tbody>\n",
       "</table>\n",
       "</div>"
      ],
      "text/plain": [
       "   source_id  target_id                                          left_name  \\\n",
       "0      17187  202041204                     Universal IR/RF Remote - MX350   \n",
       "1      17187  203069939                     Universal IR/RF Remote - MX350   \n",
       "2      33965  203069939  Logitech Harmony One Advanced Universal Remote...   \n",
       "3      31273  203069939  Sony Universal Remote Commander Remote Control...   \n",
       "4      27779  205844283  Sony LCS-CSQ/B Black Soft Carrying Case - LCSCSQB   \n",
       "\n",
       "                                    left_description  left_price  \\\n",
       "0  Universal IR/RF Remote - MX350/ Controls Up To...      149.95   \n",
       "1  Universal IR/RF Remote - MX350/ Controls Up To...      149.95   \n",
       "2  Logitech Harmony One Advanced Universal Remote...      249.00   \n",
       "3  Sony Universal Remote Commander Remote Control...         NaN   \n",
       "4  Sony LCS-CSQ/B Black Soft Carrying Case - LCSC...         NaN   \n",
       "\n",
       "                                          right_name  \\\n",
       "0     Universal MX-350 Osiris Remote Control - MX350   \n",
       "1  Universal MasterControl Universal Learning Rem...   \n",
       "2  Universal MasterControl Universal Learning Rem...   \n",
       "3  Universal MasterControl Universal Learning Rem...   \n",
       "4  Sony LCS-CSQ Soft Cyber-shot Camera Case - LCS...   \n",
       "\n",
       "                                   right_description  right_price  \\\n",
       "0  TV, VCR, DVD Player, CD Player, Cable Box, Sat...         93.9   \n",
       "1  Audio/Video, TV, VCR, DVD Player, CD Player, C...          NaN   \n",
       "2  Audio/Video, TV, VCR, DVD Player, CD Player, C...          NaN   \n",
       "3  Audio/Video, TV, VCR, DVD Player, CD Player, C...          NaN   \n",
       "4                    Top Loading - Polyamide - Black          NaN   \n",
       "\n",
       "                id  label  \n",
       "0  17187-202041204      1  \n",
       "1  17187-203069939      0  \n",
       "2  33965-203069939      0  \n",
       "3  31273-203069939      0  \n",
       "4  27779-205844283      1  "
      ]
     },
     "execution_count": 41,
     "metadata": {},
     "output_type": "execute_result"
    }
   ],
   "source": [
    "abt_buy_test = abt_buy_test.merge(abt_buy_gold_standard_test,on='id')\n",
    "abt_buy_test = abt_buy_test.rename(columns={'matching':'label'})\n",
    "abt_buy_test.drop('right_manufacturer',axis=1,inplace=True)\n",
    "abt_buy_test['label'] = abt_buy_test['label'].astype(int)\n",
    "abt_buy_test.head()"
   ]
  },
  {
   "cell_type": "markdown",
   "metadata": {},
   "source": [
    "## Split Train into Train and Validation"
   ]
  },
  {
   "cell_type": "code",
   "execution_count": 77,
   "metadata": {},
   "outputs": [],
   "source": [
    "y = abt_buy_train['label']"
   ]
  },
  {
   "cell_type": "code",
   "execution_count": 78,
   "metadata": {},
   "outputs": [],
   "source": [
    "from sklearn.model_selection import train_test_split\n",
    "X_train, X_val, y_train, y_val = train_test_split(abt_buy_train, y,\n",
    "                                                stratify=y, \n",
    "                                                test_size=0.25)"
   ]
  },
  {
   "cell_type": "code",
   "execution_count": 80,
   "metadata": {},
   "outputs": [],
   "source": [
    "abt_buy_train = X_train\n",
    "abt_buy_validation = X_val"
   ]
  },
  {
   "cell_type": "code",
   "execution_count": 81,
   "metadata": {},
   "outputs": [],
   "source": [
    "abt_buy_train.to_csv(\"abt_buy/abt_buy_train\",index=False)\n",
    "abt_buy_validation.to_csv(\"abt_buy/abt_buy_validation\",index=False)\n",
    "abt_buy_test.to_csv(\"abt_buy/abt_buy_test\",index=False)"
   ]
  },
  {
   "cell_type": "code",
   "execution_count": null,
   "metadata": {},
   "outputs": [],
   "source": []
  }
 ],
 "metadata": {
  "kernelspec": {
   "display_name": "Python 3",
   "language": "python",
   "name": "python3"
  },
  "language_info": {
   "codemirror_mode": {
    "name": "ipython",
    "version": 3
   },
   "file_extension": ".py",
   "mimetype": "text/x-python",
   "name": "python",
   "nbconvert_exporter": "python",
   "pygments_lexer": "ipython3",
   "version": "3.7.3"
  }
 },
 "nbformat": 4,
 "nbformat_minor": 2
}
