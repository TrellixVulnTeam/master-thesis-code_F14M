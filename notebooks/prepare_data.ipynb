{
 "cells": [
  {
   "cell_type": "code",
   "execution_count": 16,
   "metadata": {},
   "outputs": [],
   "source": [
    "import os\n",
    "import sys\n",
    "os.chdir(\"E:\\\\2_Studium\\\\1_Mannheim\\\\4_Semester\\\\Masterarbeit\\\\code\\\\master-thesis-code\\\\data\")\n",
    "import pandas as pd"
   ]
  },
  {
   "cell_type": "code",
   "execution_count": 68,
   "metadata": {},
   "outputs": [],
   "source": [
    "feature_abt_buy_test = pd.read_csv(\"abt_buy/features_abt_buy_test\")\n",
    "feature_abt_buy_train = pd.read_csv(\"abt_buy/features_abt_buy_train\")\n",
    "abt_buy_gold_standard_train = pd.read_csv(\"abt_buy/abt_buy_gold_standard_train.csv\",sep=\";\")\n",
    "abt_buy_gold_standard_test = pd.read_csv(\"abt_buy/abt_buy_gold_standard_test.csv\",sep=\";\")\n",
    "\n",
    "feature_amazon_google_test = pd.read_csv(\"amazon_google/features_amazon_google_test\")\n",
    "feature_amazon_google_train = pd.read_csv(\"amazon_google/features_amazon_google_train\")\n",
    "\n",
    "feature_wdc_phones_test = pd.read_csv(\"wdc_product/features_phones_phones_catalog_test\")\n",
    "feature_wdc_phones_train = pd.read_csv(\"wdc_product/features_phones_phones_catalog_train\")\n",
    "\n",
    "feature_wdc_headphones_test = pd.read_csv(\"wdc_product/features_headphones_headphones_catalog_test\")\n",
    "feature_wdc_headphones_train = pd.read_csv(\"wdc_product/features_headphones_headphones_catalog_train\")\n",
    "\n",
    "feature_dbpedia_viaf_test = pd.read_csv(\"author/features_DBPediaAuthors_VIAFDataAuthors_test\")\n",
    "feature_dbpedia_viaf_train = pd.read_csv(\"author/features_DBPediaAuthors_VIAFDataAuthors_train\")\n",
    "gs_dbpedia_viaf_test = pd.read_csv(\"author/DBPediaAuthors_VIAFDataAuthors_gold_standard_test.csv\",sep=\";\")\n",
    "gs_dbpedia_viaf_train = pd.read_csv(\"author/DBPediaAuthors_VIAFDataAuthors_gold_standard_train.csv\",sep=\";\")\n",
    "\n",
    "feature_dbpedia_wiki_test = pd.read_csv(\"author/features_DBPediaAuthors_WikiDataAuthors_test\")\n",
    "feature_dbpedia_wiki_train = pd.read_csv(\"author/features_DBPediaAuthors_WikiDataAuthors_train\")\n",
    "\n",
    "feature_dbpedia_dnb_test = pd.read_csv(\"author/features_DBPediaAuthors_DnbDataAuthors_test\")\n",
    "feature_dbpedia_dnb_train = pd.read_csv(\"author/features_DBPediaAuthors_DnbDataAuthors_train\")"
   ]
  },
  {
   "cell_type": "code",
   "execution_count": 61,
   "metadata": {},
   "outputs": [
    {
     "output_type": "execute_result",
     "data": {
      "text/plain": [
       "          Dataset  # Attributes  # Train  # Test\n",
       "0         abt_buy            19     5730    1432\n",
       "1   amazon_google            24     6753    1687\n",
       "2      wdc_phones           135     1762     440\n",
       "3  wdc_headphones           142     1163     290\n",
       "4    dbpedia_viaf            27    15316    3828\n",
       "5    dbpedia_wiki            27    19228    4807\n",
       "6     dbpedia_dnb            26    13863    3465"
      ],
      "text/html": "<div>\n<style scoped>\n    .dataframe tbody tr th:only-of-type {\n        vertical-align: middle;\n    }\n\n    .dataframe tbody tr th {\n        vertical-align: top;\n    }\n\n    .dataframe thead th {\n        text-align: right;\n    }\n</style>\n<table border=\"1\" class=\"dataframe\">\n  <thead>\n    <tr style=\"text-align: right;\">\n      <th></th>\n      <th>Dataset</th>\n      <th># Attributes</th>\n      <th># Train</th>\n      <th># Test</th>\n    </tr>\n  </thead>\n  <tbody>\n    <tr>\n      <th>0</th>\n      <td>abt_buy</td>\n      <td>19</td>\n      <td>5730</td>\n      <td>1432</td>\n    </tr>\n    <tr>\n      <th>1</th>\n      <td>amazon_google</td>\n      <td>24</td>\n      <td>6753</td>\n      <td>1687</td>\n    </tr>\n    <tr>\n      <th>2</th>\n      <td>wdc_phones</td>\n      <td>135</td>\n      <td>1762</td>\n      <td>440</td>\n    </tr>\n    <tr>\n      <th>3</th>\n      <td>wdc_headphones</td>\n      <td>142</td>\n      <td>1163</td>\n      <td>290</td>\n    </tr>\n    <tr>\n      <th>4</th>\n      <td>dbpedia_viaf</td>\n      <td>27</td>\n      <td>15316</td>\n      <td>3828</td>\n    </tr>\n    <tr>\n      <th>5</th>\n      <td>dbpedia_wiki</td>\n      <td>27</td>\n      <td>19228</td>\n      <td>4807</td>\n    </tr>\n    <tr>\n      <th>6</th>\n      <td>dbpedia_dnb</td>\n      <td>26</td>\n      <td>13863</td>\n      <td>3465</td>\n    </tr>\n  </tbody>\n</table>\n</div>"
     },
     "metadata": {},
     "execution_count": 61
    }
   ],
   "source": [
    "# Data profiling information\n",
    "metadata = [\n",
    "    ['abt_buy',feature_abt_buy_train.shape[1],\n",
    "    feature_abt_buy_train.shape[0],feature_abt_buy_test.shape[0]],\n",
    "    ['amazon_google',feature_amazon_google_train.shape[1],\n",
    "    feature_amazon_google_train.shape[0],feature_amazon_google_test.shape[0]],\n",
    "    ['wdc_phones',feature_wdc_phones_train.shape[1],\n",
    "    feature_wdc_phones_train.shape[0],feature_wdc_phones_test.shape[0]],\n",
    "    ['wdc_headphones',feature_wdc_headphones_train.shape[1],\n",
    "    feature_wdc_headphones_train.shape[0],feature_wdc_headphones_test.shape[0]],\n",
    "    ['dbpedia_viaf',feature_dbpedia_viaf_train.shape[1],\n",
    "    feature_dbpedia_viaf_train.shape[0],feature_dbpedia_viaf_test.shape[0]],\n",
    "    ['dbpedia_wiki',feature_dbpedia_wiki_train.shape[1],\n",
    "    feature_dbpedia_wiki_train.shape[0],feature_dbpedia_wiki_test.shape[0]],\n",
    "    ['dbpedia_dnb',feature_dbpedia_dnb_train.shape[1],\n",
    "    feature_dbpedia_dnb_train.shape[0],feature_dbpedia_dnb_test.shape[0]],\n",
    "    ]\n",
    "df_profiling = pd.DataFrame(metadata, columns=['Dataset', '# Attributes', '# Train', '# Test'])\n",
    "df_profiling"
   ]
  },
  {
   "cell_type": "markdown",
   "metadata": {},
   "source": [
    "# Preprocessing abt_buy"
   ]
  },
  {
   "cell_type": "code",
   "execution_count": 38,
   "metadata": {},
   "outputs": [],
   "source": [
    "ids_abt_buy_train = feature_abt_buy_train[[\"source_id\",\"target_id\"]]\n",
    "ids_abt_buy_test = feature_abt_buy_test[[\"source_id\",\"target_id\"]]\n",
    "abt_original = pd.read_csv(\"abt_buy/abt.csv\",encoding='latin1').add_prefix('left_')\n",
    "buy_original = pd.read_csv(\"abt_buy/buy.csv\",encoding='latin1').add_prefix('right_')\n",
    "\n",
    "#train\n",
    "abt_buy_train = ids_abt_buy_train.merge(\n",
    "    abt_original,left_on=\"source_id\",right_on=\"left_subject_id\").merge(\n",
    "    buy_original,left_on=\"target_id\",right_on=\"right_subject_id\").drop(['left_subject_id','right_subject_id'],1)\n",
    "abt_buy_train['id'] = abt_buy_train[['source_id','target_id']].astype(str).agg('-'.join,axis=1)\n",
    "\n",
    "#test\n",
    "abt_buy_test = ids_abt_buy_test.merge(\n",
    "    abt_original,left_on=\"source_id\",right_on=\"left_subject_id\").merge(\n",
    "    buy_original,left_on=\"target_id\",right_on=\"right_subject_id\").drop(['left_subject_id','right_subject_id'],1)\n",
    "abt_buy_test['id'] = abt_buy_test[['source_id','target_id']].astype(str).agg('-'.join,axis=1)"
   ]
  },
  {
   "cell_type": "code",
   "execution_count": 39,
   "metadata": {},
   "outputs": [],
   "source": [
    "#train\n",
    "abt_buy_gold_standard_train['id'] = abt_buy_gold_standard_train[['source_id','target_id']].astype(str).agg('-'.join,axis=1)\n",
    "abt_buy_gold_standard_train.drop(['source_id','target_id'],axis=1,inplace=True)\n",
    "\n",
    "#test\n",
    "abt_buy_gold_standard_test['id'] = abt_buy_gold_standard_test[['source_id','target_id']].astype(str).agg('-'.join,axis=1)\n",
    "abt_buy_gold_standard_test.drop(['source_id','target_id'],axis=1,inplace=True)"
   ]
  },
  {
   "cell_type": "code",
   "execution_count": 40,
   "metadata": {},
   "outputs": [],
   "source": [
    "abt_buy_train = abt_buy_train.merge(abt_buy_gold_standard_train,on='id')\n",
    "abt_buy_train = abt_buy_train.rename(columns={'matching':'label'})\n",
    "abt_buy_train.drop('right_manufacturer',axis=1,inplace=True)\n",
    "abt_buy_train['label'] = abt_buy_train['label'].astype(int)"
   ]
  },
  {
   "cell_type": "code",
   "execution_count": 41,
   "metadata": {},
   "outputs": [
    {
     "data": {
      "text/html": [
       "<div>\n",
       "<style scoped>\n",
       "    .dataframe tbody tr th:only-of-type {\n",
       "        vertical-align: middle;\n",
       "    }\n",
       "\n",
       "    .dataframe tbody tr th {\n",
       "        vertical-align: top;\n",
       "    }\n",
       "\n",
       "    .dataframe thead th {\n",
       "        text-align: right;\n",
       "    }\n",
       "</style>\n",
       "<table border=\"1\" class=\"dataframe\">\n",
       "  <thead>\n",
       "    <tr style=\"text-align: right;\">\n",
       "      <th></th>\n",
       "      <th>source_id</th>\n",
       "      <th>target_id</th>\n",
       "      <th>left_name</th>\n",
       "      <th>left_description</th>\n",
       "      <th>left_price</th>\n",
       "      <th>right_name</th>\n",
       "      <th>right_description</th>\n",
       "      <th>right_price</th>\n",
       "      <th>id</th>\n",
       "      <th>label</th>\n",
       "    </tr>\n",
       "  </thead>\n",
       "  <tbody>\n",
       "    <tr>\n",
       "      <th>0</th>\n",
       "      <td>17187</td>\n",
       "      <td>202041204</td>\n",
       "      <td>Universal IR/RF Remote - MX350</td>\n",
       "      <td>Universal IR/RF Remote - MX350/ Controls Up To...</td>\n",
       "      <td>149.95</td>\n",
       "      <td>Universal MX-350 Osiris Remote Control - MX350</td>\n",
       "      <td>TV, VCR, DVD Player, CD Player, Cable Box, Sat...</td>\n",
       "      <td>93.9</td>\n",
       "      <td>17187-202041204</td>\n",
       "      <td>1</td>\n",
       "    </tr>\n",
       "    <tr>\n",
       "      <th>1</th>\n",
       "      <td>17187</td>\n",
       "      <td>203069939</td>\n",
       "      <td>Universal IR/RF Remote - MX350</td>\n",
       "      <td>Universal IR/RF Remote - MX350/ Controls Up To...</td>\n",
       "      <td>149.95</td>\n",
       "      <td>Universal MasterControl Universal Learning Rem...</td>\n",
       "      <td>Audio/Video, TV, VCR, DVD Player, CD Player, C...</td>\n",
       "      <td>NaN</td>\n",
       "      <td>17187-203069939</td>\n",
       "      <td>0</td>\n",
       "    </tr>\n",
       "    <tr>\n",
       "      <th>2</th>\n",
       "      <td>33965</td>\n",
       "      <td>203069939</td>\n",
       "      <td>Logitech Harmony One Advanced Universal Remote...</td>\n",
       "      <td>Logitech Harmony One Advanced Universal Remote...</td>\n",
       "      <td>249.00</td>\n",
       "      <td>Universal MasterControl Universal Learning Rem...</td>\n",
       "      <td>Audio/Video, TV, VCR, DVD Player, CD Player, C...</td>\n",
       "      <td>NaN</td>\n",
       "      <td>33965-203069939</td>\n",
       "      <td>0</td>\n",
       "    </tr>\n",
       "    <tr>\n",
       "      <th>3</th>\n",
       "      <td>31273</td>\n",
       "      <td>203069939</td>\n",
       "      <td>Sony Universal Remote Commander Remote Control...</td>\n",
       "      <td>Sony Universal Remote Commander Remote Control...</td>\n",
       "      <td>NaN</td>\n",
       "      <td>Universal MasterControl Universal Learning Rem...</td>\n",
       "      <td>Audio/Video, TV, VCR, DVD Player, CD Player, C...</td>\n",
       "      <td>NaN</td>\n",
       "      <td>31273-203069939</td>\n",
       "      <td>0</td>\n",
       "    </tr>\n",
       "    <tr>\n",
       "      <th>4</th>\n",
       "      <td>27779</td>\n",
       "      <td>205844283</td>\n",
       "      <td>Sony LCS-CSQ/B Black Soft Carrying Case - LCSCSQB</td>\n",
       "      <td>Sony LCS-CSQ/B Black Soft Carrying Case - LCSC...</td>\n",
       "      <td>NaN</td>\n",
       "      <td>Sony LCS-CSQ Soft Cyber-shot Camera Case - LCS...</td>\n",
       "      <td>Top Loading - Polyamide - Black</td>\n",
       "      <td>NaN</td>\n",
       "      <td>27779-205844283</td>\n",
       "      <td>1</td>\n",
       "    </tr>\n",
       "  </tbody>\n",
       "</table>\n",
       "</div>"
      ],
      "text/plain": [
       "   source_id  target_id                                          left_name  \\\n",
       "0      17187  202041204                     Universal IR/RF Remote - MX350   \n",
       "1      17187  203069939                     Universal IR/RF Remote - MX350   \n",
       "2      33965  203069939  Logitech Harmony One Advanced Universal Remote...   \n",
       "3      31273  203069939  Sony Universal Remote Commander Remote Control...   \n",
       "4      27779  205844283  Sony LCS-CSQ/B Black Soft Carrying Case - LCSCSQB   \n",
       "\n",
       "                                    left_description  left_price  \\\n",
       "0  Universal IR/RF Remote - MX350/ Controls Up To...      149.95   \n",
       "1  Universal IR/RF Remote - MX350/ Controls Up To...      149.95   \n",
       "2  Logitech Harmony One Advanced Universal Remote...      249.00   \n",
       "3  Sony Universal Remote Commander Remote Control...         NaN   \n",
       "4  Sony LCS-CSQ/B Black Soft Carrying Case - LCSC...         NaN   \n",
       "\n",
       "                                          right_name  \\\n",
       "0     Universal MX-350 Osiris Remote Control - MX350   \n",
       "1  Universal MasterControl Universal Learning Rem...   \n",
       "2  Universal MasterControl Universal Learning Rem...   \n",
       "3  Universal MasterControl Universal Learning Rem...   \n",
       "4  Sony LCS-CSQ Soft Cyber-shot Camera Case - LCS...   \n",
       "\n",
       "                                   right_description  right_price  \\\n",
       "0  TV, VCR, DVD Player, CD Player, Cable Box, Sat...         93.9   \n",
       "1  Audio/Video, TV, VCR, DVD Player, CD Player, C...          NaN   \n",
       "2  Audio/Video, TV, VCR, DVD Player, CD Player, C...          NaN   \n",
       "3  Audio/Video, TV, VCR, DVD Player, CD Player, C...          NaN   \n",
       "4                    Top Loading - Polyamide - Black          NaN   \n",
       "\n",
       "                id  label  \n",
       "0  17187-202041204      1  \n",
       "1  17187-203069939      0  \n",
       "2  33965-203069939      0  \n",
       "3  31273-203069939      0  \n",
       "4  27779-205844283      1  "
      ]
     },
     "execution_count": 41,
     "metadata": {},
     "output_type": "execute_result"
    }
   ],
   "source": [
    "abt_buy_test = abt_buy_test.merge(abt_buy_gold_standard_test,on='id')\n",
    "abt_buy_test = abt_buy_test.rename(columns={'matching':'label'})\n",
    "abt_buy_test.drop('right_manufacturer',axis=1,inplace=True)\n",
    "abt_buy_test['label'] = abt_buy_test['label'].astype(int)\n",
    "abt_buy_test.head()"
   ]
  },
  {
   "cell_type": "markdown",
   "metadata": {},
   "source": [
    "## Split Train into Train and Validation"
   ]
  },
  {
   "cell_type": "code",
   "execution_count": 77,
   "metadata": {},
   "outputs": [],
   "source": [
    "y = abt_buy_train['label']"
   ]
  },
  {
   "cell_type": "code",
   "execution_count": 78,
   "metadata": {},
   "outputs": [],
   "source": [
    "from sklearn.model_selection import train_test_split\n",
    "X_train, X_val, y_train, y_val = train_test_split(abt_buy_train, y,\n",
    "                                                stratify=y, \n",
    "                                                test_size=0.25)"
   ]
  },
  {
   "cell_type": "code",
   "execution_count": 80,
   "metadata": {},
   "outputs": [],
   "source": [
    "abt_buy_train = X_train\n",
    "abt_buy_validation = X_val"
   ]
  },
  {
   "cell_type": "code",
   "execution_count": 81,
   "metadata": {},
   "outputs": [],
   "source": [
    "abt_buy_train.to_csv(\"abt_buy/abt_buy_train\",index=False)\n",
    "abt_buy_validation.to_csv(\"abt_buy/abt_buy_validation\",index=False)\n",
    "abt_buy_test.to_csv(\"abt_buy/abt_buy_test\",index=False)"
   ]
  },
  {
   "source": [
    "# Preprocessing dbpedia_viaf"
   ],
   "cell_type": "markdown",
   "metadata": {}
  },
  {
   "cell_type": "code",
   "execution_count": 69,
   "metadata": {},
   "outputs": [],
   "source": [
    "ids_dbpedia_viaf_train = feature_dbpedia_viaf_train[[\"source_id\",\"target_id\"]]\n",
    "ids_dbpedia_viaf_test = feature_dbpedia_viaf_test[[\"source_id\",\"target_id\"]]\n",
    "dbpedia_original = pd.read_csv(\"author/DBpediaAuthors.csv\",encoding='latin1').add_prefix('left_')\n",
    "viaf_original = pd.read_csv(\"author/VIAFDataAuthors.csv\",encoding='latin1').add_prefix('right_')\n",
    "\n",
    "#train\n",
    "dbpedia_viaf_train = ids_dbpedia_viaf_train.merge(\n",
    "    dbpedia_original,left_on=\"source_id\",right_on=\"left_subject_id\").merge(\n",
    "    viaf_original,left_on=\"target_id\",right_on=\"right_subject_id\").drop(['left_subject_id','right_subject_id'],1)\n",
    "dbpedia_viaf_train['id'] = dbpedia_viaf_train[['source_id','target_id']].astype(str).agg('-'.join,axis=1)\n",
    "\n",
    "#test\n",
    "dbpedia_viaf_test = ids_dbpedia_viaf_test.merge(\n",
    "    dbpedia_original,left_on=\"source_id\",right_on=\"left_subject_id\").merge(\n",
    "    viaf_original,left_on=\"target_id\",right_on=\"right_subject_id\").drop(['left_subject_id','right_subject_id'],1)\n",
    "dbpedia_viaf_test['id'] = dbpedia_viaf_test[['source_id','target_id']].astype(str).agg('-'.join,axis=1)"
   ]
  },
  {
   "cell_type": "code",
   "execution_count": 70,
   "metadata": {},
   "outputs": [],
   "source": [
    "#train\n",
    "gs_dbpedia_viaf_train['id'] = gs_dbpedia_viaf_train[['source_id','target_id']].astype(str).agg('-'.join,axis=1)\n",
    "gs_dbpedia_viaf_train.drop(['source_id','target_id'],axis=1,inplace=True)\n",
    "\n",
    "#test\n",
    "gs_dbpedia_viaf_test['id'] = gs_dbpedia_viaf_test[['source_id','target_id']].astype(str).agg('-'.join,axis=1)\n",
    "gs_dbpedia_viaf_test.drop(['source_id','target_id'],axis=1,inplace=True)"
   ]
  },
  {
   "cell_type": "code",
   "execution_count": 71,
   "metadata": {},
   "outputs": [],
   "source": [
    "dbpedia_viaf_train = dbpedia_viaf_train.merge(gs_dbpedia_viaf_train,on='id')\n",
    "dbpedia_viaf_train = dbpedia_viaf_train.rename(columns={'matching':'label'})\n",
    "dbpedia_viaf_train.drop(['left_abstract','left_links'],axis=1,inplace=True)\n",
    "dbpedia_viaf_train['label'] = dbpedia_viaf_train['label'].astype(int)"
   ]
  },
  {
   "cell_type": "code",
   "execution_count": 73,
   "metadata": {},
   "outputs": [],
   "source": [
    "dbpedia_viaf_test = dbpedia_viaf_test.merge(gs_dbpedia_viaf_test,on='id')\n",
    "dbpedia_viaf_test = dbpedia_viaf_test.rename(columns={'matching':'label'})\n",
    "dbpedia_viaf_test.drop(['left_abstract','left_links'],axis=1,inplace=True)\n",
    "dbpedia_viaf_test['label'] = dbpedia_viaf_test['label'].astype(int)"
   ]
  },
  {
   "source": [
    "## Split Train into Train and Validation\n"
   ],
   "cell_type": "markdown",
   "metadata": {}
  },
  {
   "cell_type": "code",
   "execution_count": 76,
   "metadata": {},
   "outputs": [],
   "source": [
    "y = dbpedia_viaf_train['label']\n",
    "from sklearn.model_selection import train_test_split\n",
    "X_train, X_val, y_train, y_val = train_test_split(dbpedia_viaf_train, y,\n",
    "                                                stratify=y, \n",
    "                                                test_size=0.25)\n",
    "dbpedia_viaf_train = X_train\n",
    "dbpedia_viaf_validation = X_val\n",
    "dbpedia_viaf_train.to_csv(\"author/dbpedia_viaf_train\",index=False)\n",
    "dbpedia_viaf_validation.to_csv(\"author/dbpedia_viaf_validation\",index=False)\n",
    "dbpedia_viaf_test.to_csv(\"author/dbpedia_viaf_test\",index=False)"
   ]
  },
  {
   "cell_type": "code",
   "execution_count": 95,
   "metadata": {},
   "outputs": [
    {
     "output_type": "execute_result",
     "data": {
      "text/plain": [
       "        Dataset  # Train  # Validation  # Test\n",
       "0  dbpedia_viaf    10885          3629    3651"
      ],
      "text/html": "<div>\n<style scoped>\n    .dataframe tbody tr th:only-of-type {\n        vertical-align: middle;\n    }\n\n    .dataframe tbody tr th {\n        vertical-align: top;\n    }\n\n    .dataframe thead th {\n        text-align: right;\n    }\n</style>\n<table border=\"1\" class=\"dataframe\">\n  <thead>\n    <tr style=\"text-align: right;\">\n      <th></th>\n      <th>Dataset</th>\n      <th># Train</th>\n      <th># Validation</th>\n      <th># Test</th>\n    </tr>\n  </thead>\n  <tbody>\n    <tr>\n      <th>0</th>\n      <td>dbpedia_viaf</td>\n      <td>10885</td>\n      <td>3629</td>\n      <td>3651</td>\n    </tr>\n  </tbody>\n</table>\n</div>"
     },
     "metadata": {},
     "execution_count": 95
    }
   ],
   "source": [
    "# Data profiling information blocked pairs\n",
    "metadata_2 = [['dbpedia_viaf',dbpedia_viaf_train.shape[0],dbpedia_viaf_validation.shape[0],dbpedia_viaf_test.shape[0]]]\n",
    "df_blocking = pd.DataFrame(metadata_2, columns=['Dataset', '# Train', '# Validation', '# Test'])\n",
    "df_blocking"
   ]
  },
  {
   "cell_type": "code",
   "execution_count": 101,
   "metadata": {},
   "outputs": [
    {
     "output_type": "stream",
     "name": "stdout",
     "text": [
      "1759\n9126\n587\n3042\n591\n3060\n"
     ]
    }
   ],
   "source": [
    "print(sum(dbpedia_viaf_train['label'] == 1))\n",
    "print(sum(dbpedia_viaf_train['label'] == 0))\n",
    "print(sum(dbpedia_viaf_validation['label'] == 1))\n",
    "print(sum(dbpedia_viaf_validation['label'] == 0))\n",
    "print(sum(dbpedia_viaf_test['label'] == 1))\n",
    "print(sum(dbpedia_viaf_test['label'] == 0))"
   ]
  },
  {
   "cell_type": "code",
   "execution_count": 105,
   "metadata": {},
   "outputs": [
    {
     "output_type": "execute_result",
     "data": {
      "text/plain": [
       "                                               source_id  \\\n",
       "5823            http://dbpedia.org/resource/sylvia_plath   \n",
       "13944             http://dbpedia.org/resource/ian_buruma   \n",
       "9980          http://dbpedia.org/resource/romain_rolland   \n",
       "7833           http://dbpedia.org/resource/fredric_brown   \n",
       "1430   http://dbpedia.org/resource/robert_thomas_(dir...   \n",
       "\n",
       "                            target_id left_birthdate left_deathdate  \\\n",
       "5823    http://viaf.org/viaf/40288663       27-10-32       11-02-63   \n",
       "13944  http://viaf.org/viaf/225432250       28-12-51            NaN   \n",
       "9980   http://viaf.org/viaf/168069289     1866-01-29       30-12-44   \n",
       "7833    http://viaf.org/viaf/55152014       29-10-06       11-03-72   \n",
       "1430    http://viaf.org/viaf/54278809       28-09-27       03-01-89   \n",
       "\n",
       "      left_gender                left_label  \\\n",
       "5823       female              Sylvia Plath   \n",
       "13944        male                Ian Buruma   \n",
       "9980         male            Romain Rolland   \n",
       "7833         male             Fredric Brown   \n",
       "1430         male  Robert Thomas (director)   \n",
       "\n",
       "                                               left_work right_birthdate  \\\n",
       "5823                       \\tThe_Bell_Jar\\tAriel_(Plath)      1885-04-13   \n",
       "13944                                     \\tBad_Elements            1601   \n",
       "9980              \\tPierre_et_Luce\\tClÃ©rambault_(novel)            1886   \n",
       "7833   \\tThe_Fabulous_Clipjoint\\tArena_(short_story)\\...      1892-05-31   \n",
       "1430                                                 NaN      1942-09-17   \n",
       "\n",
       "      right_deathdate right_gender              right_label  \\\n",
       "5823       1940-11-05         male              O. E. Plath   \n",
       "13944            1677         male             Saib Tabrizi   \n",
       "9980             1937         male     Roland Everett Jayne   \n",
       "7833             1975         male  Walter Frederick Morris   \n",
       "1430              NaN         male         Robert Graysmith   \n",
       "\n",
       "                                              right_work  \\\n",
       "5823                                                 NaN   \n",
       "13944                                             Poems.   \n",
       "9980                                                 NaN   \n",
       "7833                   Bretherton : khaki or field-grey?   \n",
       "1430   Zodiac unmasked\\t Laughing gorilla\\t Girl in a...   \n",
       "\n",
       "                                                      id  label  \n",
       "5823   http://dbpedia.org/resource/sylvia_plath-http:...      0  \n",
       "13944  http://dbpedia.org/resource/ian_buruma-http://...      0  \n",
       "9980   http://dbpedia.org/resource/romain_rolland-htt...      0  \n",
       "7833   http://dbpedia.org/resource/fredric_brown-http...      0  \n",
       "1430   http://dbpedia.org/resource/robert_thomas_(dir...      0  "
      ],
      "text/html": "<div>\n<style scoped>\n    .dataframe tbody tr th:only-of-type {\n        vertical-align: middle;\n    }\n\n    .dataframe tbody tr th {\n        vertical-align: top;\n    }\n\n    .dataframe thead th {\n        text-align: right;\n    }\n</style>\n<table border=\"1\" class=\"dataframe\">\n  <thead>\n    <tr style=\"text-align: right;\">\n      <th></th>\n      <th>source_id</th>\n      <th>target_id</th>\n      <th>left_birthdate</th>\n      <th>left_deathdate</th>\n      <th>left_gender</th>\n      <th>left_label</th>\n      <th>left_work</th>\n      <th>right_birthdate</th>\n      <th>right_deathdate</th>\n      <th>right_gender</th>\n      <th>right_label</th>\n      <th>right_work</th>\n      <th>id</th>\n      <th>label</th>\n    </tr>\n  </thead>\n  <tbody>\n    <tr>\n      <th>5823</th>\n      <td>http://dbpedia.org/resource/sylvia_plath</td>\n      <td>http://viaf.org/viaf/40288663</td>\n      <td>27-10-32</td>\n      <td>11-02-63</td>\n      <td>female</td>\n      <td>Sylvia Plath</td>\n      <td>\\tThe_Bell_Jar\\tAriel_(Plath)</td>\n      <td>1885-04-13</td>\n      <td>1940-11-05</td>\n      <td>male</td>\n      <td>O. E. Plath</td>\n      <td>NaN</td>\n      <td>http://dbpedia.org/resource/sylvia_plath-http:...</td>\n      <td>0</td>\n    </tr>\n    <tr>\n      <th>13944</th>\n      <td>http://dbpedia.org/resource/ian_buruma</td>\n      <td>http://viaf.org/viaf/225432250</td>\n      <td>28-12-51</td>\n      <td>NaN</td>\n      <td>male</td>\n      <td>Ian Buruma</td>\n      <td>\\tBad_Elements</td>\n      <td>1601</td>\n      <td>1677</td>\n      <td>male</td>\n      <td>Saib Tabrizi</td>\n      <td>Poems.</td>\n      <td>http://dbpedia.org/resource/ian_buruma-http://...</td>\n      <td>0</td>\n    </tr>\n    <tr>\n      <th>9980</th>\n      <td>http://dbpedia.org/resource/romain_rolland</td>\n      <td>http://viaf.org/viaf/168069289</td>\n      <td>1866-01-29</td>\n      <td>30-12-44</td>\n      <td>male</td>\n      <td>Romain Rolland</td>\n      <td>\\tPierre_et_Luce\\tClÃ©rambault_(novel)</td>\n      <td>1886</td>\n      <td>1937</td>\n      <td>male</td>\n      <td>Roland Everett Jayne</td>\n      <td>NaN</td>\n      <td>http://dbpedia.org/resource/romain_rolland-htt...</td>\n      <td>0</td>\n    </tr>\n    <tr>\n      <th>7833</th>\n      <td>http://dbpedia.org/resource/fredric_brown</td>\n      <td>http://viaf.org/viaf/55152014</td>\n      <td>29-10-06</td>\n      <td>11-03-72</td>\n      <td>male</td>\n      <td>Fredric Brown</td>\n      <td>\\tThe_Fabulous_Clipjoint\\tArena_(short_story)\\...</td>\n      <td>1892-05-31</td>\n      <td>1975</td>\n      <td>male</td>\n      <td>Walter Frederick Morris</td>\n      <td>Bretherton : khaki or field-grey?</td>\n      <td>http://dbpedia.org/resource/fredric_brown-http...</td>\n      <td>0</td>\n    </tr>\n    <tr>\n      <th>1430</th>\n      <td>http://dbpedia.org/resource/robert_thomas_(dir...</td>\n      <td>http://viaf.org/viaf/54278809</td>\n      <td>28-09-27</td>\n      <td>03-01-89</td>\n      <td>male</td>\n      <td>Robert Thomas (director)</td>\n      <td>NaN</td>\n      <td>1942-09-17</td>\n      <td>NaN</td>\n      <td>male</td>\n      <td>Robert Graysmith</td>\n      <td>Zodiac unmasked\\t Laughing gorilla\\t Girl in a...</td>\n      <td>http://dbpedia.org/resource/robert_thomas_(dir...</td>\n      <td>0</td>\n    </tr>\n  </tbody>\n</table>\n</div>"
     },
     "metadata": {},
     "execution_count": 105
    }
   ],
   "source": [
    "dbpedia_viaf_train[dbpedia_viaf_train['label'] == 0].head(5)"
   ]
  },
  {
   "cell_type": "code",
   "execution_count": null,
   "metadata": {},
   "outputs": [],
   "source": []
  }
 ],
 "metadata": {
  "kernelspec": {
   "name": "python373jvsc74a57bd05c437e56ac37f85ed980e165c065bae33a220e70fe4836a2a6133ee7035d984c",
   "display_name": "Python 3.7.3 64-bit (conda)"
  },
  "language_info": {
   "codemirror_mode": {
    "name": "ipython",
    "version": 3
   },
   "file_extension": ".py",
   "mimetype": "text/x-python",
   "name": "python",
   "nbconvert_exporter": "python",
   "pygments_lexer": "ipython3",
   "version": "3.7.3-final"
  }
 },
 "nbformat": 4,
 "nbformat_minor": 2
}