{
 "metadata": {
  "language_info": {
   "codemirror_mode": {
    "name": "ipython",
    "version": 3
   },
   "file_extension": ".py",
   "mimetype": "text/x-python",
   "name": "python",
   "nbconvert_exporter": "python",
   "pygments_lexer": "ipython3",
   "version": "3.8.10"
  },
  "orig_nbformat": 2,
  "kernelspec": {
   "name": "python3",
   "display_name": "Python 3.8.10 64-bit ('python38': conda)"
  },
  "interpreter": {
   "hash": "3d6ccd2bcfab28fb4b08948d903be8a3077fc288a2616d4055f0b5a296f9cf65"
  }
 },
 "nbformat": 4,
 "nbformat_minor": 2,
 "cells": [
  {
   "cell_type": "code",
   "execution_count": 1,
   "metadata": {},
   "outputs": [],
   "source": [
    "import pandas as pd \n",
    "import numpy as np\n",
    "import os\n",
    "import sys\n",
    "os.chdir(\"E:\\\\2_Studium\\\\1_Mannheim\\\\4_Semester\\\\Masterarbeit\\\\code\\\\master-thesis-code\\\\results\")"
   ]
  },
  {
   "cell_type": "code",
   "execution_count": 2,
   "metadata": {},
   "outputs": [],
   "source": [
    "\"\"\" files=['deepmatcher_2source/dbpedia_dnb/al_tl_dbpedia_dnb.csv',\n",
    "    'deepmatcher_2source/dbpedia_dnb/al_tl_da_dbpedia_dnb.csv',\n",
    "    'deepmatcher_2source/dbpedia_viaf/al_random_init_dbpedia_viaf.csv',\n",
    "    'deepmatcher_2source/dbpedia_viaf/al_tl_dbpedia_viaf.csv',\n",
    "    'deepmatcher_2source/dbpedia_viaf/al_tl_da_dbpedia_viaf.csv',\n",
    "    'deepmatcher_2source/dbpedia_viaf/al_tl_da_thresh_dbpedia_viaf.csv',\n",
    "    'deepmatcher_2source/dbpedia_viaf/al_tl_da_to_ls_dbpedia_viaf.csv',\n",
    "    'deepmatcher_2source/dbpedia_viaf/al_random_init_dbpedia_viaf.csv',\n",
    "    'deepmatcher_2source/abt_buy/al_tl_abt_buy.csv',\n",
    "    'deepmatcher_2source/abt_buy/al_tl_da_abt_buy.csv',\n",
    "    'deepmatcher_2source/abt_buy/al_tl_da_thresh_abt_buy.csv',\n",
    "    'deepmatcher_2source/abt_buy/al_tl_da_to_ls_abt_buy.csv',] \"\"\"\n",
    "files=['deepmatcher_2source/amazon_google/al_random_init_amazon_google.csv',\n",
    "    'deepmatcher_2source/amazon_google/al_tl_amazon_google.csv',\n",
    "    'deepmatcher_2source/amazon_google/al_tl_da_amazon_google.csv',\n",
    "    'deepmatcher_2source/amazon_google/al_tl_da_thresh_amazon_google.csv',\n",
    "    'deepmatcher_2source/amazon_google/al_tl_da_to_ls_amazon_google.csv']"
   ]
  },
  {
   "cell_type": "code",
   "execution_count": 4,
   "metadata": {},
   "outputs": [],
   "source": [
    "for filename in files:\n",
    "    try:\n",
    "        file = pd.read_csv(filename, sep=';')\n",
    "        file['F1 Mean']=file[['Run 1: f1','Run 2: f1','Run 3: f1']].mean(axis=1).round(3)\n",
    "        file['F1 Std']=file[['Run 1: f1','Run 2: f1','Run 3: f1']].std(axis=1).round(3)\n",
    "        file['Precision Mean']=file[['Run 1: precision','Run 2: precision','Run 3: precision']].mean(axis=1).round(3)\n",
    "        file['Precision Std']=file[['Run 1: precision','Run 2: precision','Run 3: precision']].std(axis=1).round(3)\n",
    "        file['Recall Mean']=file[['Run 1: recall','Run 2: recall','Run 3: recall']].mean(axis=1).round(3)\n",
    "        file['Recall Std']=file[['Run 1: recall','Run 2: recall','Run 3: recall']].std(axis=1).round(3)\n",
    "    except:\n",
    "        file = pd.read_csv(filename, sep=',')\n",
    "        file['F1 Mean']=file[['Run 1: f1','Run 2: f1','Run 3: f1']].mean(axis=1).round(3)\n",
    "        file['F1 Std']=file[['Run 1: f1','Run 2: f1','Run 3: f1']].std(axis=1).round(3)\n",
    "        file['Precision Mean']=file[['Run 1: precision','Run 2: precision','Run 3: precision']].mean(axis=1).round(3)\n",
    "        file['Precision Std']=file[['Run 1: precision','Run 2: precision','Run 3: precision']].std(axis=1).round(3)\n",
    "        file['Recall Mean']=file[['Run 1: recall','Run 2: recall','Run 3: recall']].mean(axis=1).round(3)\n",
    "        file['Recall Std']=file[['Run 1: recall','Run 2: recall','Run 3: recall']].std(axis=1).round(3)\n",
    "    # F1 Mean\tF1 Std\tPrecision Mean\tPrecision Std\tRecall Mean\tRecall Std\n",
    "\n",
    "    #print(file.columns)\n",
    "    file.to_csv(filename,index=False)"
   ]
  },
  {
   "cell_type": "code",
   "execution_count": null,
   "metadata": {},
   "outputs": [],
   "source": []
  }
 ]
}