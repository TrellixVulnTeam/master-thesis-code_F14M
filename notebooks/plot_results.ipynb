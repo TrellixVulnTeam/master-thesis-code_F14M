{
 "metadata": {
  "language_info": {
   "codemirror_mode": {
    "name": "ipython",
    "version": 3
   },
   "file_extension": ".py",
   "mimetype": "text/x-python",
   "name": "python",
   "nbconvert_exporter": "python",
   "pygments_lexer": "ipython3",
   "version": 3
  },
  "orig_nbformat": 2
 },
 "nbformat": 4,
 "nbformat_minor": 2,
 "cells": [
  {
   "cell_type": "code",
   "execution_count": null,
   "metadata": {},
   "outputs": [],
   "source": [
    "all_f1 = np.vstack((df1['f1'],df2['f1']))\n",
    "\n",
    "import matplotlib.pyplot as plt\n",
    "query_num = np.arange(20, 1020, 20)\n",
    "mean_train_f1_scores = np.mean(all_f1,axis=0)\n",
    "std_train_f1_scores = np.std(all_f1,axis=0)\n",
    "\n",
    "plt.errorbar(query_num, mean_train_f1_scores, yerr=std_train_f1_scores, label='Mean, std Train F1')\n",
    "#plt.errorbar(query_num, mean_test_f1_scores, yerr=std_test_f1_scores, label='Mean, std Test F1')\n",
    "plt.xlabel('Number of Queries')\n",
    "plt.xticks(np.arange(0, 1020, 100))\n",
    "plt.legend(loc='center left', bbox_to_anchor=(1, 0.5))\n",
    "plt.show()"
   ]
  }
 ]
}